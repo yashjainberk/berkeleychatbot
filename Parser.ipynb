{
 "cells": [
  {
   "cell_type": "code",
   "execution_count": 74,
   "id": "4191641b",
   "metadata": {},
   "outputs": [],
   "source": [
    "#import statements\n",
    "from bs4 import BeautifulSoup\n",
    "import requests\n",
    "import praw\n",
    "import re\n",
    "import tweepy"
   ]
  },
  {
   "cell_type": "code",
   "execution_count": 70,
   "id": "2a653d3a",
   "metadata": {},
   "outputs": [
    {
     "data": {
      "text/plain": [
       "'\\r\\n\\r\\n\\r\\n\\r\\n<!doctype html>\\r\\n<html>\\r\\n<head>\\r\\n    <meta charset=\"UTF-8\">\\r\\n    <meta name=\"viewport\" content=\"width=device-width, initial-scale=1.0, minimum-scale=1.0, maximum-scale=1.0, user-scalable=no\">\\r\\n    <title>CrimeMapping.com - Helping You Build a Safer Community</title>\\r\\n    <link href=\\'https://fonts.googleapis.com/css?family=Muli:300,400,300italic,400italic\\' rel=\\'stylesheet\\' type=\\'text/css\\'>\\r\\n    <link rel=\"stylesheet\" href=\"https://ocpd-content.azureedge.net/cdn/styles/mini/2.4.1.0/map-slidebars.css\">\\r\\n\\r\\n    <!--ArcGIS API CSS Reference -->\\r\\n    <link rel=\"stylesheet\" href=\"https://ocpd-content.azureedge.net/cdn/styles/mini/2.4.1.0/esri.css\" >\\r\\n    \\r\\n    \\r\\n\\r\\n    <!-- Kendo UI MVC Styles -->\\r\\n    <link href=\"https://ocpd-content.azureedge.net/cdn/styles/mini/2.4.1.0/kendo/2015.2.805/kendo.common.min.css\" rel=\"stylesheet\" type=\"text/css\" />\\r\\n    <link href=\"https://ocpd-content.azureedge.net/cdn/styles/mini/2.4.1.0/kendo/2015.2.805/kendo.mobile.all.min.css\" rel=\"stylesheet\" type=\"text/css\" />\\r\\n    <link href=\"https://ocpd-content.azureedge.net/cdn/styles/mini/2.4.1.0/kendo/2015.2.805/kendo.dataviz.min.css\" rel=\"stylesheet\" type=\"text/css\" />\\r\\n    <link href=\"https://ocpd-content.azureedge.net/cdn/styles/mini/2.4.1.0/kendo/2015.2.805/kendo.default.min.css\" rel=\"stylesheet\" type=\"text/css\" />\\r\\n    <link href=\"https://ocpd-content.azureedge.net/cdn/styles/mini/2.4.1.0/kendo/2015.2.805/kendo.dataviz.default.min.css\" rel=\"stylesheet\" type=\"text/css\" />\\r\\n    <!-- Omega Styles -->\\r\\n    <link rel=\"stylesheet\" href=\"https://ocpd-content.azureedge.net/cdn/styles/mini/2.4.1.0/map-styles.css\">\\r\\n\\r\\n    <!-- jQuery -->\\r\\n    <script src=\"https://ocpd-content.azureedge.net/cdn/scripts/mini/2.4.1.0/jquery-1.10.2.min.js\"></script>\\r\\n\\r\\n    <!-- Detect Browser Zoom -->\\r\\n    <script src=\"https://ocpd-content.azureedge.net/cdn/scripts/mini/2.4.1.0/detect-zoom.min.js\" type=\"text/javascript\"></script>\\r\\n\\r\\n    <!-- Kendo UI MVC Scripts -->\\r\\n    <script src=\"https://ocpd-content.azureedge.net/cdn/scripts/mini/2.4.1.0/kendo/2015.2.805/jquery.min.js\"></script>\\r\\n    <script src=\"https://ocpd-content.azureedge.net/cdn/scripts/mini/2.4.1.0/kendo/2015.2.805/jszip.min.js\"></script>\\r\\n    <script src=\"https://ocpd-content.azureedge.net/cdn/scripts/mini/2.4.1.0/kendo/2015.2.805/kendo.core.min.js\"></script>\\r\\n    <script src=\"https://ocpd-content.azureedge.net/cdn/scripts/mini/2.4.1.0/kendo/2015.2.805/kendo.angular.min.js\"></script>   \\r\\n    <script src=\"https://ocpd-content.azureedge.net/cdn/scripts/mini/2.4.1.0/kendo/2015.2.805/kendo.binder.min.js\"></script>\\r\\n    <script src=\"https://ocpd-content.azureedge.net/cdn/scripts/mini/2.4.1.0/kendo/2015.2.805/kendo.calendar.min.js\"></script>\\r\\n    <script src=\"https://ocpd-content.azureedge.net/cdn/scripts/mini/2.4.1.0/kendo/2015.2.805/kendo.color.min.js\"></script>\\r\\n    <script src=\"https://ocpd-content.azureedge.net/cdn/scripts/mini/2.4.1.0/kendo/2015.2.805/kendo.columnmenu.min.js\"></script>\\r\\n    <script src=\"https://ocpd-content.azureedge.net/cdn/scripts/mini/2.4.1.0/kendo/2015.2.805/kendo.columnsorter.min.js\"></script>\\r\\n    <script src=\"https://ocpd-content.azureedge.net/cdn/scripts/mini/2.4.1.0/kendo/2015.2.805/kendo.data.min.js\"></script>\\r\\n    <script src=\"https://ocpd-content.azureedge.net/cdn/scripts/mini/2.4.1.0/kendo/2015.2.805/kendo.datepicker.min.js\"></script>\\r\\n    <script src=\"https://ocpd-content.azureedge.net/cdn/scripts/mini/2.4.1.0/kendo/2015.2.805/kendo.draganddrop.min.js\"></script>\\r\\n    <script src=\"https://ocpd-content.azureedge.net/cdn/scripts/mini/2.4.1.0/kendo/2015.2.805/kendo.drawing.min.js\"></script>\\r\\n    <script src=\"https://ocpd-content.azureedge.net/cdn/scripts/mini/2.4.1.0/kendo/2015.2.805/kendo.editable.min.js\"></script>\\r\\n    <script src=\"https://ocpd-content.azureedge.net/cdn/scripts/mini/2.4.1.0/kendo/2015.2.805/kendo.excel.min.js\"></script>\\r\\n    <script src=\"https://ocpd-content.azureedge.net/cdn/scripts/mini/2.4.1.0/kendo/2015.2.805/kendo.filtercell.min.js\"></script>\\r\\n    <script src=\"https://ocpd-content.azureedge.net/cdn/scripts/mini/2.4.1.0/kendo/2015.2.805/kendo.filtermenu.min.js\"></script>\\r\\n    <script src=\"https://ocpd-content.azureedge.net/cdn/scripts/mini/2.4.1.0/kendo/2015.2.805/kendo.fx.min.js\"></script>\\r\\n    <script src=\"https://ocpd-content.azureedge.net/cdn/scripts/mini/2.4.1.0/kendo/2015.2.805/kendo.groupable.min.js\"></script>\\r\\n    <script src=\"https://ocpd-content.azureedge.net/cdn/scripts/mini/2.4.1.0/kendo/2015.2.805/kendo.list.min.js\"></script>\\r\\n    <script src=\"https://ocpd-content.azureedge.net/cdn/scripts/mini/2.4.1.0/kendo/2015.2.805/kendo.listview.min.js\"></script>\\r\\n    <script src=\"https://ocpd-content.azureedge.net/cdn/scripts/mini/2.4.1.0/kendo/2015.2.805/kendo.menu.min.js\"></script>\\r\\n    <script src=\"https://ocpd-content.azureedge.net/cdn/scripts/mini/2.4.1.0/kendo/2015.2.805/kendo.mobile.actionsheet.min.js\"></script>\\r\\n    <script src=\"https://ocpd-content.azureedge.net/cdn/scripts/mini/2.4.1.0/kendo/2015.2.805/kendo.mobile.loader.min.js\"></script>\\r\\n    <script src=\"https://ocpd-content.azureedge.net/cdn/scripts/mini/2.4.1.0/kendo/2015.2.805/kendo.mobile.pane.min.js\"></script>\\r\\n    <script src=\"https://ocpd-content.azureedge.net/cdn/scripts/mini/2.4.1.0/kendo/2015.2.805/kendo.mobile.popover.min.js\"></script>\\r\\n    <script src=\"https://ocpd-content.azureedge.net/cdn/scripts/mini/2.4.1.0/kendo/2015.2.805/kendo.mobile.scroller.min.js\"></script>\\r\\n    <script src=\"https://ocpd-content.azureedge.net/cdn/scripts/mini/2.4.1.0/kendo/2015.2.805/kendo.mobile.shim.min.js\"></script>\\r\\n    <script src=\"https://ocpd-content.azureedge.net/cdn/scripts/mini/2.4.1.0/kendo/2015.2.805/kendo.mobile.view.min.js\"></script>\\r\\n    <script src=\"https://ocpd-content.azureedge.net/cdn/scripts/mini/2.4.1.0/kendo/2015.2.805/kendo.numerictextbox.min.js\"></script>\\r\\n    <script src=\"https://ocpd-content.azureedge.net/cdn/scripts/mini/2.4.1.0/kendo/2015.2.805/kendo.ooxml.min.js\"></script>\\r\\n    <script src=\"https://ocpd-content.azureedge.net/cdn/scripts/mini/2.4.1.0/kendo/2015.2.805/kendo.pager.min.js\"></script>\\r\\n    <script src=\"https://ocpd-content.azureedge.net/cdn/scripts/mini/2.4.1.0/kendo/2015.2.805/kendo.pdf.min.js\"></script>\\r\\n    <script src=\"https://ocpd-content.azureedge.net/cdn/scripts/mini/2.4.1.0/kendo/2015.2.805/kendo.popup.min.js\"></script>\\r\\n    <script src=\"https://ocpd-content.azureedge.net/cdn/scripts/mini/2.4.1.0/kendo/2015.2.805/kendo.progressbar.min.js\"></script>\\r\\n    <script src=\"https://ocpd-content.azureedge.net/cdn/scripts/mini/2.4.1.0/kendo/2015.2.805/kendo.reorderable.min.js\"></script>\\r\\n    <script src=\"https://ocpd-content.azureedge.net/cdn/scripts/mini/2.4.1.0/kendo/2015.2.805/kendo.resizable.min.js\"></script>\\r\\n    <script src=\"https://ocpd-content.azureedge.net/cdn/scripts/mini/2.4.1.0/kendo/2015.2.805/kendo.selectable.min.js\"></script>\\r\\n    <script src=\"https://ocpd-content.azureedge.net/cdn/scripts/mini/2.4.1.0/kendo/2015.2.805/kendo.timepicker.min.js\"></script>\\r\\n    <script src=\"https://ocpd-content.azureedge.net/cdn/scripts/mini/2.4.1.0/kendo/2015.2.805/kendo.userevents.min.js\"></script>\\r\\n    <script src=\"https://ocpd-content.azureedge.net/cdn/scripts/mini/2.4.1.0/kendo/2015.2.805/kendo.validator.min.js\"></script>\\r\\n    <script src=\"https://ocpd-content.azureedge.net/cdn/scripts/mini/2.4.1.0/kendo/2015.2.805/kendo.view.min.js\"></script>\\r\\n    <script src=\"https://ocpd-content.azureedge.net/cdn/scripts/mini/2.4.1.0/kendo/2015.2.805/kendo.virtuallist.min.js\"></script>\\r\\n\\r\\n    <script src=\"https://ocpd-content.azureedge.net/cdn/scripts/mini/2.4.1.0/kendo/2015.2.805/kendo.autocomplete.min.js\"></script>\\r\\n    <script src=\"https://ocpd-content.azureedge.net/cdn/scripts/mini/2.4.1.0/kendo/2015.2.805/kendo.combobox.min.js\"></script>\\r\\n    <script src=\"https://ocpd-content.azureedge.net/cdn/scripts/mini/2.4.1.0/kendo/2015.2.805/kendo.dataviz.core.min.js\"></script>\\r\\n    <script src=\"https://ocpd-content.azureedge.net/cdn/scripts/mini/2.4.1.0/kendo/2015.2.805/kendo.dataviz.themes.min.js\"></script>\\r\\n    <script src=\"https://ocpd-content.azureedge.net/cdn/scripts/mini/2.4.1.0/kendo/2015.2.805/kendo.dataviz.chart.min.js\"></script>\\r\\n    <script src=\"https://ocpd-content.azureedge.net/cdn/scripts/mini/2.4.1.0/kendo/2015.2.805/kendo.dataviz.chart.funnel.min.js\"></script>\\r\\n    <script src=\"https://ocpd-content.azureedge.net/cdn/scripts/mini/2.4.1.0/kendo/2015.2.805/kendo.dataviz.chart.polar.min.js\"></script>\\r\\n    <script src=\"https://ocpd-content.azureedge.net/cdn/scripts/mini/2.4.1.0/kendo/2015.2.805/kendo.datetimepicker.min.js\"></script>\\r\\n    <script src=\"https://ocpd-content.azureedge.net/cdn/scripts/mini/2.4.1.0/kendo/2015.2.805/kendo.dropdownlist.min.js\"></script>\\r\\n    <script src=\"https://ocpd-content.azureedge.net/cdn/scripts/mini/2.4.1.0/kendo/2015.2.805/kendo.grid.min.js\"></script>\\r\\n\\r\\n    <script src=\"https://ocpd-content.azureedge.net/cdn/scripts/mini/2.4.1.0/kendo/2015.2.805/kendo.aspnetmvc.min.js\"></script>\\r\\n\\r\\n    <!--ArcGIS API JS Reference:  Must come after Kendo Scripts to prevent conflicts -->\\r\\n    <script src=\"https://js.arcgis.com/3.14/\"></script>\\r\\n    \\r\\n    \\r\\n\\r\\n    <!-- Slidebars -->\\r\\n    <script src=\"https://ocpd-content.azureedge.net/cdn/scripts/mini/2.4.1.0/responsive-nav.js\"></script>\\r\\n    <script src=\"https://ocpd-content.azureedge.net/cdn/scripts/mini/2.4.1.0/slidebars.js\"></script>    \\r\\n\\r\\n    <!-- Load Google Analytics -->\\r\\n    <script>\\r\\n          (function(i,s,o,g,r,a,m){i[\\'GoogleAnalyticsObject\\']=r;i[r]=i[r]||function(){\\r\\n          (i[r].q=i[r].q||[]).push(arguments)},i[r].l=1*new Date();a=s.createElement(o),\\r\\n          m=s.getElementsByTagName(o)[0];a.async=1;a.src=g;m.parentNode.insertBefore(a,m)\\r\\n          })(window,document,\\'script\\',\\'//www.google-analytics.com/analytics.js\\',\\'ga\\');\\r\\n\\r\\n          ga(\\'create\\', \\'UA-73322505-1\\', \\'auto\\');\\r\\n          ga(\\'send\\', \\'pageview\\');\\r\\n\\r\\n    </script>\\r\\n\\r\\n    <!-- Google Analytics Event Tracking -->\\r\\n    <script type=\"text/javascript\" src=\"https://ocpd-content.azureedge.net/cdn/scripts/mini/2.4.1.0/analytics/eventtracking.js\"></script> \\r\\n\\r\\n    <!-- Omega References -->\\r\\n    <script src=\"https://ocpd-content.azureedge.net/cdn/scripts/mini/2.4.1.0/site/ScriptHelper.js\"></script>\\r\\n    <script src=\"https://ocpd-content.azureedge.net/cdn/scripts/mini/2.4.1.0/site/map/MapSettings.js\"></script>\\r\\n    <script src=\"https://ocpd-content.azureedge.net/cdn/scripts/mini/2.4.1.0/site/Map/Map.js\"></script>\\r\\n    <script src=\"https://ocpd-content.azureedge.net/cdn/scripts/mini/2.4.1.0/site/map/Test.js\"></script>\\r\\n    <script type=\"text/javascript\" src=\"https://ocpd-content.azureedge.net/cdn/scripts/mini/2.4.1.0/site/login/staging.js\"></script>\\r\\n\\r\\n    <!-- Listen for Browser Events -->\\r\\n    <script type=\"text/javascript\">\\r\\n        $(document).ready(function () {\\r\\n            //- Poll every 25 seconds for browser zoom level changes\\r\\n            ScriptHelper.BeginListeningForBrowserZoom(null, 25000);\\r\\n        });\\r\\n    </script>\\r\\n\\r\\n    <!-- Alert Signup-->\\r\\n    <script src=\"https://ocpd-content.azureedge.net/cdn/scripts/mini/2.4.1.0/site/alerts/AlertSignup.js\"></script>\\r\\n    <script src=\"https://ocpd-content.azureedge.net/cdn/scripts/mini/2.4.1.0/site/alerts/AlertSignupSettings.js\"></script>\\r\\n    <script src=\"https://ocpd-content.azureedge.net/cdn/scripts/mini/2.4.1.0/site/alerts/AlertSignupMap.js\"></script>\\r\\n\\r\\n    <!-- Initialize Map -->\\r\\n    <script type=\"text/javascript\">\\r\\n        $(document).ready(function () {\\r\\n\\r\\n            //- Setup slidebars\\r\\n            $.slidebars({\\r\\n                siteClose: false,\\r\\n            });\\r\\n\\r\\n            //- When user types in location search text box\\r\\n            $(\"#locationSearch\").attr(\"onKeyUp\", \"Map.LocationSearchKeyUp()\");\\r\\n            Map.ClearAddressSearch();\\r\\n\\r\\n            //- Start page with Content Loading dialog active\\r\\n            Map.LoadActivityModal();\\r\\n\\r\\n            //- Initalize Map\\r\\n            Map.Init({\\r\\n  \"MapType\": 1,\\r\\n  \"SuggestionSettings\": {\\r\\n    \"nc\": 3,\\r\\n    \"lc\": \"USA,CAN\",\\r\\n    \"mns\": 10,\\r\\n    \"mgs\": 80,\\r\\n    \"ds\": 16093.4,\\r\\n    \"gu\": \"https://geocode.arcgis.com/arcgis/rest/services/World/GeocodeServer/find\",\\r\\n    \"su\": \"https://geocode.arcgis.com/arcgis/rest/services/World/GeocodeServer/suggest\"\\r\\n  },\\r\\n  \"LocationSearchX\": \"\",\\r\\n  \"LocationSearchY\": \"\",\\r\\n  \"Settings\": {\\r\\n    \"ol\": {\\r\\n      \"sm\": {\\r\\n        \"ox\": 11.0,\\r\\n        \"oy\": 15.0,\\r\\n        \"in\": \"OrganizationMarker.SVG\"\\r\\n      },\\r\\n      \"ss\": {\\r\\n        \"ox\": 10.0,\\r\\n        \"oy\": 8.0,\\r\\n        \"in\": \"SelectedOrganizationMarker.SVG\"\\r\\n      }\\r\\n    },\\r\\n    \"ls\": {\\r\\n      \"ox\": 1.1,\\r\\n      \"oy\": 1.2,\\r\\n      \"in\": \"MyLocation.svg\"\\r\\n    },\\r\\n    \"sf\": {\\r\\n      \"qg\": {\\r\\n        \"ol\": {\\r\\n          \"co\": \"#FFE60F0F\",\\r\\n          \"wd\": 3.0,\\r\\n          \"st\": 0\\r\\n        },\\r\\n        \"co\": \"#7FFFFFFF\",\\r\\n        \"st\": 6\\r\\n      },\\r\\n      \"pt\": {\\r\\n        \"ox\": 0.0,\\r\\n        \"oy\": 0.0,\\r\\n        \"in\": \"MyLocation.svg\"\\r\\n      },\\r\\n      \"ln\": {\\r\\n        \"co\": \"#7F2A6199\",\\r\\n        \"wd\": 4.0,\\r\\n        \"st\": 5\\r\\n      },\\r\\n      \"pl\": {\\r\\n        \"ol\": {\\r\\n          \"co\": \"#FFFFFFFF\",\\r\\n          \"wd\": 3.0,\\r\\n          \"st\": 5\\r\\n        },\\r\\n        \"co\": \"#FF2A6199\",\\r\\n        \"st\": 6\\r\\n      }\\r\\n    },\\r\\n    \"rl\": {\\r\\n      \"ds\": 0,\\r\\n      \"px\": 6.0,\\r\\n      \"py\": 17.0,\\r\\n      \"vs\": [\\r\\n        1,\\r\\n        2,\\r\\n        3,\\r\\n        4,\\r\\n        5,\\r\\n        6,\\r\\n        7,\\r\\n        8,\\r\\n        9,\\r\\n        10,\\r\\n        11,\\r\\n        12,\\r\\n        13,\\r\\n        14,\\r\\n        15,\\r\\n        17,\\r\\n        18,\\r\\n        100,\\r\\n        102,\\r\\n        103,\\r\\n        104,\\r\\n        105,\\r\\n        106,\\r\\n        107,\\r\\n        108,\\r\\n        109,\\r\\n        110,\\r\\n        111,\\r\\n        112,\\r\\n        113,\\r\\n        114,\\r\\n        115,\\r\\n        116,\\r\\n        117,\\r\\n        118,\\r\\n        119,\\r\\n        120\\r\\n      ],\\r\\n      \"sx\": 0.0,\\r\\n      \"sy\": 3.0,\\r\\n      \"lx\": 0.0,\\r\\n      \"ly\": 40.0\\r\\n    },\\r\\n    \"mxs\": 30000000.0,\\r\\n    \"mns\": 2250.0,\\r\\n    \"zs\": 5000.0,\\r\\n    \"zms\": 200000.0,\\r\\n    \"mrs\": 500000.0,\\r\\n    \"mls\": 10000.0,\\r\\n    \"ums\": false,\\r\\n    \"bid\": 1,\\r\\n    \"bl\": [\\r\\n      {\\r\\n        \"$type\": \"OmegaGroup.Civic.Data.Map.Layers.TileBackgroundLayer, OmegaGroup.Civic.Data\",\\r\\n        \"ul\": \"https://services.arcgisonline.com/arcgis/rest/services/World_Street_Map/MapServer\",\\r\\n        \"id\": 1,\\r\\n        \"nm\": \"Streets\",\\r\\n        \"lr\": 1\\r\\n      },\\r\\n      {\\r\\n        \"$type\": \"OmegaGroup.Civic.Data.Map.Layers.TileBackgroundLayer, OmegaGroup.Civic.Data\",\\r\\n        \"ul\": \"https://server.arcgisonline.com/ArcGIS/rest/services/World_Topo_Map/MapServer\",\\r\\n        \"id\": 2,\\r\\n        \"nm\": \"Terrain\",\\r\\n        \"lr\": 2\\r\\n      },\\r\\n      {\\r\\n        \"$type\": \"OmegaGroup.Civic.Data.Map.Layers.TileBackgroundLayer, OmegaGroup.Civic.Data\",\\r\\n        \"ul\": \"https://services.arcgisonline.com/arcgis/rest/services/World_Imagery/MapServer\",\\r\\n        \"id\": 3,\\r\\n        \"nm\": \"Imagery\",\\r\\n        \"lr\": 3\\r\\n      }\\r\\n    ]\\r\\n  },\\r\\n  \"TemporalFilterSettings\": {\\r\\n    \"df\": {\\r\\n      \"$type\": \"OmegaGroup.Civic.Data.Filter.Temporal.PreviousTemporalFilter, OmegaGroup.Civic.Data\",\\r\\n      \"id\": 3,\\r\\n      \"na\": \"Previous Week\",\\r\\n      \"nd\": 7,\\r\\n      \"ft\": 1\\r\\n    },\\r\\n    \"sc\": [\\r\\n      {\\r\\n        \"id\": 1,\\r\\n        \"na\": \"Yesterday\",\\r\\n        \"nd\": 1,\\r\\n        \"cd\": false\\r\\n      },\\r\\n      {\\r\\n        \"id\": 2,\\r\\n        \"na\": \"Previous 3 Days\",\\r\\n        \"nd\": 3,\\r\\n        \"cd\": false\\r\\n      },\\r\\n      {\\r\\n        \"id\": 3,\\r\\n        \"na\": \"Previous Week\",\\r\\n        \"nd\": 7,\\r\\n        \"cd\": false\\r\\n      },\\r\\n      {\\r\\n        \"id\": 4,\\r\\n        \"na\": \"Previous 4 Weeks\",\\r\\n        \"nd\": 28,\\r\\n        \"cd\": false\\r\\n      }\\r\\n    ],\\r\\n    \"sd\": \"20221123\"\\r\\n  },\\r\\n  \"SpatialFilterSettings\": {\\r\\n    \"ud\": false,\\r\\n    \"df\": null,\\r\\n    \"bs\": [\\r\\n      {\\r\\n        \"na\": \"500 feet\",\\r\\n        \"ds\": 152.4,\\r\\n        \"lr\": 1,\\r\\n        \"id\": 1\\r\\n      },\\r\\n      {\\r\\n        \"na\": \"1000 feet\",\\r\\n        \"ds\": 304.8,\\r\\n        \"lr\": 2,\\r\\n        \"id\": 2\\r\\n      },\\r\\n      {\\r\\n        \"na\": \"1500 feet\",\\r\\n        \"ds\": 457.2,\\r\\n        \"lr\": 3,\\r\\n        \"id\": 3\\r\\n      },\\r\\n      {\\r\\n        \"na\": \"1/4 mile\",\\r\\n        \"ds\": 402.336,\\r\\n        \"lr\": 4,\\r\\n        \"id\": 4\\r\\n      },\\r\\n      {\\r\\n        \"na\": \"1/2 mile\",\\r\\n        \"ds\": 804.672,\\r\\n        \"lr\": 5,\\r\\n        \"id\": 5\\r\\n      },\\r\\n      {\\r\\n        \"na\": \"1 mile\",\\r\\n        \"ds\": 1609.34,\\r\\n        \"lr\": 6,\\r\\n        \"id\": 6\\r\\n      },\\r\\n      {\\r\\n        \"na\": \"2 miles\",\\r\\n        \"ds\": 3218.69,\\r\\n        \"lr\": 7,\\r\\n        \"id\": 7\\r\\n      }\\r\\n    ],\\r\\n    \"db\": 804.672,\\r\\n    \"mn\": 10.0,\\r\\n    \"mx\": 5000.0\\r\\n  },\\r\\n  \"DefaultBuffer\": 0.0,\\r\\n  \"BufferShortCuts\": null,\\r\\n  \"Startup\": {\\r\\n    \"$type\": \"OmegaGroup.Civic.Data.Map.AddressStartup, OmegaGroup.Civic.Data\",\\r\\n    \"sv\": {\\r\\n      \"x\": -13609841.907547159,\\r\\n      \"y\": 4561004.086762242,\\r\\n      \"sc\": 10000.0\\r\\n    },\\r\\n    \"ad\": \"UC Berkeley, 101 Sather Rd, Berkeley, CA, 94720, USA\"\\r\\n  },\\r\\n  \"ShareMap\": false,\\r\\n  \"ShareMapID\": \"\",\\r\\n  \"CrimeAlert\": false,\\r\\n  \"CrimeAlertID\": \"\",\\r\\n  \"ShareMapUseSelectedPinID\": false,\\r\\n  \"ShareMapSelectedPinID\": null,\\r\\n  \"BackgroundLayers\": [\\r\\n    {\\r\\n      \"$type\": \"OmegaGroup.Civic.Data.Map.Layers.TileBackgroundLayer, OmegaGroup.Civic.Data\",\\r\\n      \"ul\": \"https://services.arcgisonline.com/arcgis/rest/services/World_Street_Map/MapServer\",\\r\\n      \"id\": 1,\\r\\n      \"nm\": \"Streets\",\\r\\n      \"lr\": 1\\r\\n    },\\r\\n    {\\r\\n      \"$type\": \"OmegaGroup.Civic.Data.Map.Layers.TileBackgroundLayer, OmegaGroup.Civic.Data\",\\r\\n      \"ul\": \"https://server.arcgisonline.com/ArcGIS/rest/services/World_Topo_Map/MapServer\",\\r\\n      \"id\": 2,\\r\\n      \"nm\": \"Terrain\",\\r\\n      \"lr\": 2\\r\\n    },\\r\\n    {\\r\\n      \"$type\": \"OmegaGroup.Civic.Data.Map.Layers.TileBackgroundLayer, OmegaGroup.Civic.Data\",\\r\\n      \"ul\": \"https://services.arcgisonline.com/arcgis/rest/services/World_Imagery/MapServer\",\\r\\n      \"id\": 3,\\r\\n      \"nm\": \"Imagery\",\\r\\n      \"lr\": 3\\r\\n    }\\r\\n  ],\\r\\n  \"CultureFolder\": \"\",\\r\\n  \"WhatAttributeCategories\": [\\r\\n    {\\r\\n      \"id\": 1,\\r\\n      \"na\": \"Arson\"\\r\\n    },\\r\\n    {\\r\\n      \"id\": 2,\\r\\n      \"na\": \"Assault\"\\r\\n    },\\r\\n    {\\r\\n      \"id\": 3,\\r\\n      \"na\": \"Burglary\"\\r\\n    },\\r\\n    {\\r\\n      \"id\": 4,\\r\\n      \"na\": \"Disturbing the Peace\"\\r\\n    },\\r\\n    {\\r\\n      \"id\": 5,\\r\\n      \"na\": \"Drugs / Alcohol Violations\"\\r\\n    },\\r\\n    {\\r\\n      \"id\": 6,\\r\\n      \"na\": \"DUI\"\\r\\n    },\\r\\n    {\\r\\n      \"id\": 7,\\r\\n      \"na\": \"Fraud\"\\r\\n    },\\r\\n    {\\r\\n      \"id\": 8,\\r\\n      \"na\": \"Homicide\"\\r\\n    },\\r\\n    {\\r\\n      \"id\": 9,\\r\\n      \"na\": \"Motor Vehicle Theft\"\\r\\n    },\\r\\n    {\\r\\n      \"id\": 10,\\r\\n      \"na\": \"Robbery\"\\r\\n    },\\r\\n    {\\r\\n      \"id\": 11,\\r\\n      \"na\": \"Sex Crimes\"\\r\\n    },\\r\\n    {\\r\\n      \"id\": 12,\\r\\n      \"na\": \"Theft / Larceny\"\\r\\n    },\\r\\n    {\\r\\n      \"id\": 13,\\r\\n      \"na\": \"Vandalism\"\\r\\n    },\\r\\n    {\\r\\n      \"id\": 14,\\r\\n      \"na\": \"Vehicle Break-In / Theft\"\\r\\n    },\\r\\n    {\\r\\n      \"id\": 15,\\r\\n      \"na\": \"Weapons\"\\r\\n    },\\r\\n    {\\r\\n      \"id\": 17,\\r\\n      \"na\": \"Sex Offender\"\\r\\n    },\\r\\n    {\\r\\n      \"id\": 18,\\r\\n      \"na\": \"Sexual Predator\"\\r\\n    }\\r\\n  ],\\r\\n  \"WhatSelectedAttributeCategories\": [\\r\\n    1,\\r\\n    2,\\r\\n    3,\\r\\n    4,\\r\\n    5,\\r\\n    6,\\r\\n    7,\\r\\n    8,\\r\\n    9,\\r\\n    10,\\r\\n    11,\\r\\n    12,\\r\\n    13,\\r\\n    14,\\r\\n    15\\r\\n  ],\\r\\n  \"MyLocationSymbol\": {\\r\\n    \"ox\": 1.1,\\r\\n    \"oy\": 1.2,\\r\\n    \"in\": \"MyLocation.svg\"\\r\\n  },\\r\\n  \"OrganizationSymbolInfo\": {\\r\\n    \"sm\": {\\r\\n      \"ox\": 11.0,\\r\\n      \"oy\": 15.0,\\r\\n      \"in\": \"OrganizationMarker.SVG\"\\r\\n    },\\r\\n    \"ss\": {\\r\\n      \"ox\": 10.0,\\r\\n      \"oy\": 8.0,\\r\\n      \"in\": \"SelectedOrganizationMarker.SVG\"\\r\\n    }\\r\\n  },\\r\\n  \"IsSessionActive\": false,\\r\\n  \"UserSession\": null,\\r\\n  \"SessionUserName\": null,\\r\\n  \"OrganizationFilter\": null,\\r\\n  \"ErrorCode\": 0,\\r\\n  \"ErrorMessage\": null,\\r\\n  \"DefaultAgencyID\": -1,\\r\\n  \"ResourcePath\": \"https://ocpd-content.azureedge.net/cdn\",\\r\\n  \"VersionPath\": \"/mini/2.4.1.0/\"\\r\\n});\\r\\n            \\r\\n\\r\\n        });\\r\\n\\r\\n        //- Handle browser back button scenarios in IE\\r\\n        window.onbeforeunload = function () {\\r\\n\\r\\n            if (Map.AlertsPageOpen) {\\r\\n                Map.AlertsPageOpen = false;\\r\\n                document.location.reload();\\r\\n            }\\r\\n            if (Map.ReportsPageOpen) {\\r\\n                Map.ReportsPageOpen = false;\\r\\n                document.location.reload();\\r\\n            }\\r\\n        }\\r\\n    </script>\\r\\n\\r\\n    <script type=\"text/x-kendo-tmpl\" id=\"whatListViewTemplate\">\\r\\n        <div style=\"color:white; border-color:rgb(51,51,51)\">\\r\\n            <table id=\"tblAtt${ID}\" style=\"width:350px; border:1px white\">\\r\\n                <tr id=\"trAtt${ID}\" style=\"cursor: pointer\" onclick=\"Map.WhatPanelClick(\\'${ID}\\', false)\">\\r\\n                    <td>\\r\\n                        <img id=\"imgAtt${ID}\" src=\"https://ocpd-content.azureedge.net/cdn/images/IncidentType/WhatPanel/${ID}.svg\" height=\"28\" width=\"28\" />\\r\\n                    <td>\\r\\n                        &nbsp;\\r\\n                    </td>\\r\\n                    <td style=\"width:300px\">\\r\\n                        <a id=\"attName${ID}\" class=\"btnWhiteText\" style=\"padding-left:10px; float:left\">${Name}</a>\\r\\n                    </td>\\r\\n                    <td style=\"width:10px\">\\r\\n                        <input type=\"checkbox\" name=\"${ID}\" id=\"chkAtt${ID}\" class=\"whiteCheck-checkbox\" /><label for=\"${ID}\" class=\"whiteCheck-label\"></label>\\r\\n                    </td>\\r\\n                </tr>\\r\\n            </table>\\r\\n        </div>\\r\\n    </script>\\r\\n\\r\\n\\r\\n    <script type=\"text/javascript\">\\r\\n        $(\"li.sb-open-left a\").click(function () {\\r\\n            alert(\"clicked\");\\r\\n        });\\r\\n    </script>\\r\\n</head>\\r\\n\\r\\n<body onresize=\"Map.WindowResized();\" style=\"min-width:1000px; overflow:hidden\">\\r\\n\\r\\n    <input type=\"checkbox\" id=\"nav-trigger\" class=\"nav-trigger\" />\\r\\n    <label id=\"lblnavtrigger\" for=\"nav-trigger\" onclick=\"Map.NavTriggerClick()\"></label>\\r\\n\\r\\n    <ul id=\"mapnavigation\" class=\"navigation\">\\r\\n        <li class=\"nav-item\"><a href=\"/about\" target=\"_blank\">About</a></li>\\r\\n        <li class=\"nav-item\"><a href=\"/help\" target=\"_blank\">Help</a></li>\\r\\n        <li class=\"nav-item\"><a href=\"/FAQ\" target=\"_blank\">FAQ</a></li>\\r\\n        <li class=\"nav-item\"><a href=\"/Contact\" target=\"_blank\">Contact</a></li>\\r\\n        <li class=\"nav-item\"><a href=\"/WhatsNew\" target=\"_blank\">What&#39;s New</a></li>\\r\\n        <li class=\"nav-item\"><a href=\"/\">Home</a></li>\\r\\n    </ul>\\r\\n\\r\\n    <!-- Modal Overlay Dialog -->\\r\\n    <div id=\"modalBgTransparency\"></div>\\r\\n    <div id=\"modalDialog\">\\r\\n        <div class=\"initializeContentModal\">\\r\\n            <div id=\"floatingCirclesG\">\\r\\n                <div class=\"f_circleG\" id=\"frotateG_01\"></div>\\r\\n                <div class=\"f_circleG\" id=\"frotateG_02\"></div>\\r\\n                <div class=\"f_circleG\" id=\"frotateG_03\"></div>\\r\\n                <div class=\"f_circleG\" id=\"frotateG_04\"></div>\\r\\n                <div class=\"f_circleG\" id=\"frotateG_05\"></div>\\r\\n                <div class=\"f_circleG\" id=\"frotateG_06\"></div>\\r\\n                <div class=\"f_circleG\" id=\"frotateG_07\"></div>\\r\\n                <div class=\"f_circleG\" id=\"frotateG_08\"></div>\\r\\n            </div>\\r\\n            <p style=\"margin:25px;\">\\r\\n                Preparing Map Content...\\r\\n            </p>\\r\\n        </div>\\r\\n    </div>\\r\\n\\r\\n    <div id=\"sb-site\" style=\"padding:100px 0px 0px 75px\">\\r\\n        <input id=\"mapType\" type=\"hidden\" value=\"standard\" />\\r\\n        <input id=\"mapAgency\" type=\"hidden\" value=\"-1\" />\\r\\n\\r\\n        <!-- Page Header -->\\r\\n        <div id=\"pgHeader\">\\r\\n            <div class=\"mapHeaderLogo\">\\r\\n                <a href=\"/home\"><img style=\"border: none\" src=\"https://ocpd-content.azureedge.net/cdn/images/map/logo-crimemapping-mapview.svg\" width=\"499\" height=\"24\" alt=\"CrimeMapping.com - Helping You Build a Safer Community\" /></a>\\r\\n                <ul class=\"loginSignup\">\\r\\n                    <li><a class=\"signupAccount\" onclick=\"Map.OpenAlertsSignup()\" href=\"javascript:void(0)\">Receive Alerts</a></li>\\r\\n                    <!--<li><a class=\"login\" href=\"#\">Log in</a></li>-->\\r\\n                </ul>\\r\\n            </div>\\r\\n        </div>\\r\\n\\r\\n        <!-- Top Toolbar -->\\r\\n        <div id=\"topToolbar\">\\r\\n            <span class=\"searchIcon\"><img src=\"https://ocpd-content.azureedge.net/cdn/images/map/icon-search.svg\" alt=\"\" /></span>\\r\\n            <span class=\"clearSearch\"><a class=\"btnClearSearch\" href=\"javascript:void(0);\" onclick=\"Map.ClearAddressSearch()\"></a></span>\\r\\n            <input class=\"landingInputKendo\" id=\"locationSearch\" name=\"locationSearch\" style=\"width:340px;float:left;margin:5px;background:#FFF;\" type=\"text\" /><script>\\r\\n\\tjQuery(function(){jQuery(\"#locationSearch\").kendoAutoComplete({\"select\":Map.LocationSuggestSelected,\"change\":Map.LocationSearchTextChanged,\"open\":Map.LocationSuggestOpen,\"dataSource\":{\"transport\":{\"prefix\":\"\",\"read\":{\"url\":\"/Map/GetLocationSuggestions\",\"data\":Map.LocationSuggestParameters}},\"serverFiltering\":true,\"filter\":[],\"schema\":{\"errors\":\"Errors\"}},\"dataTextField\":\"Text\",\"template\":\"\\\\u003cdiv style=\\\\\"width:auto;height:20px;padding:0px;\\\\\"\\\\u003e\\\\u003cdiv style=\\\\\"width:auto;float:left;\\\\\"\\\\u003e# if (Source == \\\\\"0\\\\\")  { #\\\\u003cimg src=\\\\u0027https://ocpd-content.azureedge.net/cdn/images/map/location-type-address.svg\\\\u0027 style=\\\\\"float:left;width:25px;height:25px;\\\\\" /\\\\u003e# } else if(Source == \\\\\"1\\\\\"){ #\\\\u003cimg src=\\\\u0027https://ocpd-content.azureedge.net/cdn/images/map/location-type-boundary-polygon.svg\\\\u0027 style=\\\\\"float:left;width:25px;height:25px;\\\\\" /\\\\u003e# } else if(Source == \\\\\"2\\\\\"){ #\\\\u003cimg src=\\\\u0027https://ocpd-content.azureedge.net/cdn/images/map/location-type-feature-point.svg\\\\u0027 style=\\\\\"float:left;width:25px;height:25px;\\\\\" /\\\\u003e# } else if(Source == \\\\\"3\\\\\"){ #\\\\u003cimg src=\\\\u0027https://ocpd-content.azureedge.net/cdn/images/map/location-type-line.svg\\\\u0027 style=\\\\\"float:left;width:25px;height:25px;\\\\\" /\\\\u003e# } else if(Source == \\\\\"4\\\\\"){ #\\\\u003cimg src=\\\\u0027https://ocpd-content.azureedge.net/cdn/images/map/location-type-agency.svg\\\\u0027 style=\\\\\"float:left;width:25px;height:25px;\\\\\" /\\\\u003e# } #\\\\u003c/div\\\\u003e\\\\u003cdiv style=\\\\\"float:left;display:block;width:auto;\\\\\"\\\\u003e\\\\u003cspan style=\\\\\"font-size:12px;font-weight:bold;margin:0px 0px 5px 5px;\\\\\"\\\\u003e#=Text#\\\\u003c/span\\\\u003e\\\\u003cspan style=\\\\\"font-size:12px;color:dddddd;font-style:italic;\\\\\"\\\\u003e # if(Source == \\\\\"1\\\\\") {  #(boundary polygon)# } else if(Source == \\\\\"2\\\\\"){ #(feature point)# } else if(Source == \\\\\"3\\\\\"){ #(polyline)# } else if(Source == \\\\\"4\\\\\"){ #(agency)# } #\\\\u003c/span\\\\u003e\\\\u003c/div\\\\u003e\\\\u003c/div\\\\u003e\",\"minLength\":3,\"placeholder\":\"Enter an address, landmark or zip code\"});});\\r\\n</script>\\r\\n\\r\\n            <a class=\"locationgo\" href=\"javascript:void(0);\" onclick=\"Map.GeocodeSearchAddress()\">Go</a>\\r\\n\\r\\n            <span class=\"recordCount\">0 Records</span>\\r\\n            <span class=\"dateRange\">Date Range: <a id=\"dateRangeVal\" class=\"btnBlueText\" style=\"cursor:pointer;\" onclick=\"Map.LoadFiltersPanel(\\'when\\')\"></a></span>\\r\\n\\r\\n            <ul class=\"reportList\">\\r\\n                <li><a href=\"javascript:void(0)\" onclick=\"Map.LoadShareModal();EventTracking.MapSummaryShareMap();\"><img style=\"border-style: none\" src=\"https://ocpd-content.azureedge.net/cdn/images/map/share-map-link.svg\" alt=\"Share This Map\" title=\"Share This Map\" /></a></li>\\r\\n\\r\\n                <li><a class=\"agencyInfo\" href=\"javascript:void(0)\" onclick=\"Map.OpenOrganizationDetail(null, true); EventTracking.MapAgencyMetadataLinkClicked();\"><img style=\"border-style: none\" src=\"https://ocpd-content.azureedge.net/cdn/images/map/record-details-agency-link-badge.svg\" alt=\"Show Visible Agency Info\" title=\"Show Visible Agency Info\" /></a></li>\\r\\n            </ul>\\r\\n        </div>\\r\\n\\r\\n        <!-- Client Log In Info -->\\r\\n\\r\\n        <!-- Max Records Status -->\\r\\n        <div id=\"divStatusBarMaxRecords\" class=\"statusMaxRecords\" style=\"visibility:hidden;\">\\r\\n            <span class=\"statusBarMessage\"><img style=\"margin:6px 9px -3px 0px\" src=\"https://ocpd-content.azureedge.net/cdn/images/map/status-max-records.svg\" alt=\"Max Record Count Reached\" />Max record count of <label id=\"lblMaxRecordCount\">500</label> reached. <a class=\"btnWhiteTextUnderline\" href=\"javascript:void(0)\" onclick=\"Map.StatusBarZLZoomIn()\">Zoom in</a> or adjust filter.</span>\\r\\n            <span class=\"statusBarHelp\"><a target=\"_blank\" href=\"/help#max-records-reached\"><img style=\"margin:6px 9px -1px 0px\" src=\"https://ocpd-content.azureedge.net/cdn/images/map/status-help.svg\" alt=\"Help with this topic\" /></a><a class=\"btnWhiteText\" target=\"_blank\" href=\"/help#max-records-reached\">Help</a></span>\\r\\n        </div>\\r\\n\\r\\n        <!-- Zoom In Status -->\\r\\n        <div id=\"divStatusBarZoomIn\" class=\"statusZoomIn\" style=\"visibility:hidden;\">\\r\\n            <span class=\"statusBarMessage\"><img style=\"margin:6px 9px -3px 0px\" src=\"https://ocpd-content.azureedge.net/cdn/images/map/status-zoom-in.svg\" alt=\"Zoom in to view records\" /><a class=\"btnWhiteTextUnderline\" href=\"javascript:void(0)\" onclick=\"Map.StatusBarZoomIn()\">Zoom in</a> to view records.</span>\\r\\n            <span class=\"statusBarHelp\"><a target=\"_blank\" href=\"/help#zoom-in-to-view\"><img style=\"margin:7px 9px -1px 0px\" src=\"https://ocpd-content.azureedge.net/cdn/images/map/status-help.svg\" alt=\"Help with this topic\" /></a><a class=\"btnWhiteText\" target=\"_blank\" href=\"/help#zoom-in-to-view\">Help</a></span>\\r\\n        </div>\\r\\n\\r\\n        <!-- No Data Provided Status -->\\r\\n        <div id=\"divStatusBarNoDataProvided\" class=\"statusNoDataProvided\" style=\"visibility:hidden;\">\\r\\n            <span class=\"statusBarMessage\"><img style=\"margin:7px 9px -2px 0px\" src=\"https://ocpd-content.azureedge.net/cdn/images/map/status-no-data-provided.svg\" alt=\"Zoom in to view records\" />No data provided for this map extent. <a class=\"btnWhiteTextUnderline\" target=\"_blank\" href=\"/FAQ#not-participating\">Why?</a></span>\\r\\n            <span class=\"statusBarHelp\"><a target=\"_blank\" href=\"/FAQ#not-participating\"><img style=\"margin:7px 9px -1px 0px\" src=\"https://ocpd-content.azureedge.net/cdn/images/map/status-help.svg\" alt=\"Help with this topic\" /></a><a class=\"btnWhiteText\" target=\"_blank\" href=\"/FAQ#not-participating\">Help</a></span>\\r\\n        </div>\\r\\n\\r\\n        <!-- No Data Found Status -->\\r\\n        <div id=\"divStatusBarNoDataFound\" class=\"statusNoDataFound\" style=\"visibility:hidden;\">\\r\\n            <span id=\"spStatusBarMessage\" class=\"statusBarMessage\"><img style=\"margin:7px 9px -2px 0px\" src=\"https://ocpd-content.azureedge.net/cdn/images/map/status-no-data-found.svg\" alt=\"Zoom in to view records\" />No records found when using the current filter.</span>\\r\\n            <span id=\"spStatusBarHelp\" class=\"statusBarHelp\"><a target=\"_blank\" href=\"/FAQ#no-data-found\"><img style=\"margin:7px 9px -1px 0px\" src=\"https://ocpd-content.azureedge.net/cdn/images/map/status-help.svg\" alt=\"Help with this topic\" /></a><a class=\"btnWhiteText\" target=\"_blank\" href=\"/help#no-data-found\">Help</a></span>\\r\\n        </div>\\r\\n\\r\\n        <!-- Missing Records -->\\r\\n        <div id=\"divStatusBarMissingRecords\" class=\"statusZoomIn\" style=\"visibility:hidden;\">\\r\\n            <span class=\"statusBarMessage\"><img style=\"margin:6px 9px -3px 0px\" src=\"https://ocpd-content.azureedge.net/cdn/images/map/status-zoom-in.svg\" alt=\"Missing records\" />There are missing records.</span>\\r\\n            <span class=\"statusBarHelp\"><a target=\"_blank\" href=\"/help#missing-records\"><img style=\"margin:7px 9px -1px 0px\" src=\"https://ocpd-content.azureedge.net/cdn/images/map/status-help.svg\" alt=\"Help with this topic\" /></a><a class=\"btnWhiteText\" target=\"_blank\" href=\"/help#missing-records\">Help</a></span>\\r\\n        </div>\\r\\n\\r\\n        <!-- Agency Filter -->\\r\\n        <div id=\"divStatusBarAgencyFilter\" class=\"statusAgencyFilter\" style=\"visibility:hidden;\">\\r\\n            <span class=\"statusBarMessage\"><img style=\"margin:4px 9px -3px 0px; width:20px;\" src=\"https://ocpd-content.azureedge.net/cdn/images/map/record-details-agency-link-badge.svg\" alt=\"Agency Filter\" /><span id=\"statusAgencyName\"></span>&nbsp;&nbsp;|&nbsp;&nbsp;<a class=\"btnWhiteTextUnderline\" onclick=\"Map.ClearAgencyFilterStatus()\" href=\"javascript:void(0)\">Remove Filter</a></span>\\r\\n            <span class=\"statusBarHelp\"><a target=\"_blank\" href=\"/help#agency-filter\"><img style=\"margin:7px 9px -1px 0px\" src=\"https://ocpd-content.azureedge.net/cdn/images/map/status-help.svg\" alt=\"Help with this topic\" /></a><a class=\"btnWhiteText\" target=\"_blank\" href=\"/help#agency-filter\">Help</a></span>\\r\\n        </div>\\r\\n\\r\\n        <!-- Sex Offender Data Available Status -->\\r\\n        <div id=\"divStatusBarSexOffenderData\" class=\"statusSexOffenderData\" style=\"visibility:hidden\">\\r\\n            <span class=\"statusBarMessage\"><img style=\"margin:4px 9px -3px 0px; width:20px;\" src=\"https://ocpd-content.azureedge.net/cdn/images/map/status-offender-data.svg\" alt=\"Sex Offender Data Available\" /><span>Sex Offender Data Available for this Area.</span>&nbsp;&nbsp;|&nbsp;&nbsp;<a class=\"btnWhiteTextUnderline\" onclick=\"Map.CloseOffenderStatusBar(true)\" href=\"javascript:void(0)\">Display</a>&nbsp;or&nbsp;<a class=\"btnWhiteTextUnderline\" onclick=\"Map.CloseOffenderStatusBar(false)\" href=\"javascript:void(0)\">Dismiss</a></span>\\r\\n            <span class=\"statusBarHelp\"><a target=\"_blank\" href=\"/help#sex-offender-data-available\"><img style=\"margin:7px 9px -1px 0px\" src=\"https://ocpd-content.azureedge.net/cdn/images/map/status-help.svg\" alt=\"Help with this topic\" /></a><a class=\"btnWhiteText\" target=\"_blank\" href=\"/help#sex-offender-data-available\">Help</a></span>\\r\\n        </div>\\r\\n\\r\\n        <!-- leftToolbar -->\\r\\n        <div id=\"leftToolbar\">\\r\\n            <ul class=\"queryBuilder\">\\r\\n                <br />\\r\\n                <li><span style=\"color:#F30; font-weight:bold; font-size:14px;\">FILTERS</span></li>\\r\\n                <hr class=\"queryBuilderDivider\" />\\r\\n                <li><a id=\"filtersSummary\" class=\"viewSummary\" href=\"javascript:void(0);\" onclick=\"Map.LoadFiltersPanel(\\'summary\\')\" onmouseover=\" Map.filterMouseOver(this)\" onmouseout=\"Map.filterMouseOut(this)\"></a></li>\\r\\n                <li><a id=\"filtersWhat\" class=\"viewWhat\" href=\"javascript:void(0);\" onclick=\"Map.LoadFiltersPanel(\\'what\\'); Map.TogglePinGraphic(true)\" onmouseover=\"Map.filterMouseOver(this)\" onmouseout=\"Map.filterMouseOut(this)\"></a></li>\\r\\n                <li><a id=\"filtersWhere\" class=\"viewWhere\" href=\"javascript:void(0);\" onclick=\"Map.LoadFiltersPanel(\\'where\\'); Map.TogglePinGraphic(true);\" onmouseover=\"Map.filterMouseOver(this)\" onmouseout=\"Map.filterMouseOut(this)\"></a></li>\\r\\n                <li><a id=\"filtersWhen\" class=\"viewWhen\" href=\"javascript:void(0);\" onclick=\"Map.LoadFiltersPanel(\\'when\\'); Map.TogglePinGraphic(true);\" onmouseover=\"Map.filterMouseOver(this)\" onmouseout=\"Map.filterMouseOut(this)\"></a></li>\\r\\n                <hr class=\"queryBuilderDivider\" />\\r\\n                \\r\\n                \\r\\n                <li><a id=\"displayReports\" class=\"viewReportToolbar\" onmouseover=\"Map.viewReportToolbarMouseOver()\" onmouseout=\"Map.viewReportToolbarMouseOut()\" href=\"javascript:void(0)\" onclick=\"Map.OpenReport()\"></a></li>\\r\\n                <li><a id=\"reportCharts\" class=\"viewChartsToolbar\" onmouseover=\"Map.viewChartsToolbarMouseOver()\" onmouseout=\" Map.viewChartsToolbarMouseOut()\" href=\"javascript:void(0)\" onclick=\"Map.OpenReport(true)\"></a></li>\\r\\n                <hr class=\"queryBuilderDivider\" />\\r\\n                <li><a id=\"btnPrintMap\" class=\"printMapToolbar\" target=\"_blank\" href=\"/Print\">Print</a></li>\\r\\n            </ul>\\r\\n\\r\\n\\r\\n\\r\\n        </div>\\r\\n\\r\\n        <!-- Map, Map Tools -->\\r\\n        <div id=\"mapContent\" style=\"height:100%\">\\r\\n\\r\\n\\r\\n\\r\\n            <div id=\"mapTools\">\\r\\n                <ul class=\"mapNavigation\">\\r\\n                    <li><a class=\"zoomIn\" href=\"javascript:Map.ZoomIn()\" title=\"Zoom in\"></a></li>\\r\\n                    <li><a class=\"zoomOut\" href=\"javascript:Map.ZoomOut()\" title=\"Zoom out\"></a></li>\\r\\n                    <li><a class=\"distanceToolMap\" href=\"javascript:Map.MeasureDistance()\" title=\"Measure Distance\"></a></li>\\r\\n                    \\r\\n                </ul>\\r\\n            </div>\\r\\n\\r\\n            <div id=\"measurementInfo\">\\r\\n                <div id=\"measurementLabel\">Distance: </div>\\r\\n                <div id=\"measurementValue\">&nbsp;</div>\\r\\n                <div>\\r\\n                    <input class=\"mapUnitsComboBox\" id=\"ddlMapUnits\" name=\"ddlMapUnits\" type=\"text\" value=\"MapUnit\" /><script>\\r\\n\\tjQuery(function(){jQuery(\"#ddlMapUnits\").kendoDropDownList({\"change\":Map.MeasureUnitChange,\"select\":Map.MeasureUnitChange,\"dataSource\":[{\"Name\":\"Miles\",\"Value\":\"Mile\"},{\"Name\":\"Feet\",\"Value\":\"Feet\"},{\"Name\":\"Kilometers\",\"Value\":\"Kilometer\"},{\"Name\":\"Meters\",\"Value\":\"Meter\"}],\"dataTextField\":\"Name\",\"dataValueField\":\"Value\"});});\\r\\n</script>\\r\\n                </div>\\r\\n            </div>\\r\\n\\r\\n            <!-- Basemap Menu -->\\r\\n            <div id=\"baseMaps\">\\r\\n                <input class=\"baseMapsComboBox\" id=\"ddlBasemaps\" name=\"ddlBasemaps\" style=\"border-radius:0px;\" type=\"text\" value=\"1\" /><script>\\r\\n\\tjQuery(function(){jQuery(\"#ddlBasemaps\").kendoDropDownList({\"change\":Map.BasemapChanged,\"select\":Map.BasemapSelected,\"dataSource\":[{\"Url\":\"https://services.arcgisonline.com/arcgis/rest/services/World_Street_Map/MapServer\",\"ID\":1,\"Name\":\"Streets\",\"ListRank\":1},{\"Url\":\"https://server.arcgisonline.com/ArcGIS/rest/services/World_Topo_Map/MapServer\",\"ID\":2,\"Name\":\"Terrain\",\"ListRank\":2},{\"Url\":\"https://services.arcgisonline.com/arcgis/rest/services/World_Imagery/MapServer\",\"ID\":3,\"Name\":\"Imagery\",\"ListRank\":3}],\"dataTextField\":\"Name\",\"dataValueField\":\"ID\"});});\\r\\n</script>\\r\\n\\r\\n            </div>\\r\\n\\r\\n            <!--Map -->\\r\\n            <div id=\"map\" style=\"height:100%;width:auto; text-align:left\"></div>\\r\\n        </div>\\r\\n\\r\\n\\r\\n    </div><!-- sb-site -->\\r\\n\\r\\n    <div id=\"divScaleDisplay\" class=\"scaleDisplay\" style=\"display:none\">\\r\\n        <label id=\"lblScale\" style=\"margin-left:60px; top:15px; position:relative\"></label>\\r\\n    </div>\\r\\n\\r\\n    <div id=\"divReportPage\" style=\"display:none; overflow:auto; height:100%; background:#333;\">\\r\\n\\r\\n    </div>\\r\\n\\r\\n    <div id=\"divAlertsSignUp\" style=\"display:none; overflow:auto; height:100%; background:#333;\">\\r\\n\\r\\n    </div>\\r\\n\\r\\n    <!--Right Tools Panel-->\\r\\n    <div id=\"rightPanel\" class=\"sb-slidebar sb-right sb-style-overlay\">\\r\\n\\r\\n        <div id=\"recordDetailLoader\" class=\"recordDetailsLoader\" style=\"visibility:hidden\">\\r\\n            <div style=\"width:100%; height:230px; background:rgba(51, 51, 51, 0.9)\"></div>\\r\\n            <div style=\"width:100%; height:100%; background:rgba(255, 255, 255, 0.9)\">\\r\\n                <div style=\"width:150px; height:auto; margin:0 auto;\">\\r\\n                    <div id=\"floatingCirclesG\">\\r\\n                        <div class=\"f_circleG\" id=\"frotateG_01\"></div>\\r\\n                        <div class=\"f_circleG\" id=\"frotateG_02\"></div>\\r\\n                        <div class=\"f_circleG\" id=\"frotateG_03\"></div>\\r\\n                        <div class=\"f_circleG\" id=\"frotateG_04\"></div>\\r\\n                        <div class=\"f_circleG\" id=\"frotateG_05\"></div>\\r\\n                        <div class=\"f_circleG\" id=\"frotateG_06\"></div>\\r\\n                        <div class=\"f_circleG\" id=\"frotateG_07\"></div>\\r\\n                        <div class=\"f_circleG\" id=\"frotateG_08\"></div>\\r\\n                    </div>\\r\\n                    <p style=\"text-align:center; color:#4d4d4d;\">Fetching Data.</p>\\r\\n                </div>\\r\\n                </div>\\r\\n            </div>\\r\\n\\r\\n        <ul style=\"position:absolute; top:25px; left:25px; list-style:none;\">\\r\\n            \\r\\n            <li class=\"sb-close\"><a class=\"btnWhiteText\" href=\"javascript:void(0);\" onclick=\"Map.CloseRightPanel()\">x Close</a></li>\\r\\n        </ul>\\r\\n    <div id=\"divRightPanel\">\\r\\n\\r\\n    </div>\\r\\n        \\r\\n\\r\\n\\r\\n    </div><!-- sb-slidebar sb-right -->\\r\\n\\r\\n\\r\\n    <!--Left Tools Panel -->\\r\\n    <div id=\"mapPanels\" class=\"sb-slidebar sb-left sb-style-overlay\" > \\r\\n\\r\\n        <ul style=\"position:absolute; top:15px; right:15px; list-style:none;\">\\r\\n            <li class=\"sb-close\"><a class=\"btnWhiteText\" href=\"javascript:void(0);\" onclick=\"Map.CloseFilterPanel()\">x Close</a></li>\\r\\n        </ul>\\r\\n        <br /><br />\\r\\n\\r\\n        <div id=\"divLeftPanel\">\\r\\n            <div id=\"leftPanelLoader\">LOADING...</div>\\r\\n        </div>\\r\\n    </div>\\r\\n\\r\\n\\r\\n\\r\\n</body>\\r\\n</html>\\r\\n\\r\\n'"
      ]
     },
     "execution_count": 70,
     "metadata": {},
     "output_type": "execute_result"
    }
   ],
   "source": [
    "#create an instance of link with all the courses and print raw HTML data\n",
    "url = 'https://www.crimemapping.com/map/location/UC%20Berkeley,%20101%20Sather%20Rd,%20Berkeley,%20CA,%2094720,%20USA?id=dHA9MCNsb2M9MjIwNTg4OCNsbmc9NTQjcGw9MzM2MDAxI2xicz0xNDo0OTQ1MjQyMSNsbj1FYWdsZUxvY2F0b3I='\n",
    "r = requests.get(url)\n",
    "r.text"
   ]
  },
  {
   "cell_type": "code",
   "execution_count": 67,
   "id": "3ff890d2",
   "metadata": {},
   "outputs": [],
   "source": [
    "#Use Soup to clean up HTML raw data\n",
    "soup = BeautifulSoup(r.content, 'html.parser')"
   ]
  },
  {
   "cell_type": "code",
   "execution_count": 68,
   "id": "d91c824f",
   "metadata": {},
   "outputs": [],
   "source": [
    "#Go through all <LI> tags and find all Major instances\n",
    "majors = []\n",
    "for li in soup.find_all(\"li\"):\n",
    "    if '(' in li.text:\n",
    "        print(li.text)\n",
    "        majors.append(li.text)"
   ]
  },
  {
   "cell_type": "code",
   "execution_count": 52,
   "id": "1958352a",
   "metadata": {},
   "outputs": [],
   "source": [
    "#Create a Reddit API Instance\n",
    "reddit = praw.Reddit(\n",
    "    client_id=\"VqWvrAHNS2o7pyAU6HVDsg\",\n",
    "    client_secret=\"bDDbWA_pEBvETZpXym33tDt3KC3PBg\",\n",
    "    password=\"BerkeleyChatBot\",\n",
    "    user_agent=\"testscript by u/Falcon_Personal\",\n",
    "    username=\"Falcon_Personal\",\n",
    ")"
   ]
  },
  {
   "cell_type": "code",
   "execution_count": 53,
   "id": "0617777a",
   "metadata": {},
   "outputs": [
    {
     "name": "stdout",
     "output_type": "stream",
     "text": [
      "Falcon_Personal\n"
     ]
    }
   ],
   "source": [
    "print(reddit.user.me())"
   ]
  },
  {
   "cell_type": "code",
   "execution_count": 54,
   "id": "4dc50ed9",
   "metadata": {},
   "outputs": [],
   "source": [
    "url = \"https://www.reddit.com/r/berkeley/cs170\"\n",
    "subreddit = reddit.subreddit('berkeley')"
   ]
  },
  {
   "cell_type": "code",
   "execution_count": 61,
   "id": "f77f8881",
   "metadata": {},
   "outputs": [
    {
     "name": "stdout",
     "output_type": "stream",
     "text": [
      "Submission Title: As a DS major is taking cs70 before cs170 critical or can I manage with the data c140 requirement?\n",
      "Submission Title: Should I take CSM for 61A, 61B, and/or 70?\n",
      "Submission Title: Took 61b at Community College. Should I Take it Again?\n",
      "Submission Title: Should I take either EE16b or CS 61B over the summer?\n",
      "Submission Title: Should I take 61b with josh or wait?\n",
      "Submission Title: Will I be able to take CS170 in the spring if I declare CS or DS at the end of the fall?\n",
      "Submission Title: Should I take CS 61B if I have no intention of majoring?\n",
      "Submission Title: How hard would 61c and cs170 be. I was planning on taking both with two (hopefully easy) breadth classes next sem\n",
      "Submission Title: Should I take 61B without 61A?\n",
      "Submission Title: fall 2022 course review: cs170, data140, cs61c\n",
      "Submission Title: Intended L&S CS, taking 61B and 70 finals today, and can’t sleep after trying for many hours\n",
      "Submission Title: Should I emergency drop 61B and retake during summer?\n",
      "Submission Title: EECS 101 Piazza: Can CS170 be taken without 70? Anant Sahai: Can you do 70's HW/exams easily? \"They should further agree not to take a slot in office hours unless nobody else is waiting. …Basically, someone without the prereqs shouldn't inadvertently cause a burden on others including course staff.\"\n",
      "Submission Title: Fall 2023 Schedule\n",
      "Submission Title: Finalizing Courses for CS. Should I take Data 8 and Data 100?\n",
      "Submission Title: Should I drop chem 3bl to take phys 8a with lowhorn or should I just drop physics and take it in the spring?\n",
      "Submission Title: [Critique] CS70 is made artificially harder. Here's how it can improve:\n",
      "Submission Title: Should I skip 188, or do I need it to take 189?\n",
      "Submission Title: Senior with no internship should I take 169A (SWE) or 160 (UI/UX) as my final class?\n",
      "Submission Title: Should I be avoiding Hilfinger 61B next semester?\n",
      "Submission Title: How does my schedule look? I feel it's a bit lopsided (almost nothing on thursday; lots of stuff on M/W), but is that normal? Should I try to switch around some discussion sections? I don't know when 61B will have labs/discussions since I'm in a 999 section.\n",
      "Submission Title: Should I take Econ 1 with no prior experience in Economics?\n",
      "Submission Title: What classes should I take if I want to learn Spanish or Chinese?\n",
      "Submission Title: What courses should I take in my first 2 years at Berkeley to be able to transfer to CS/DS\n",
      "Submission Title: Should I skip CS 61a to 61b\n",
      "Submission Title: Hi everyone: What classes should I take at a CC for Cal?\n",
      "Submission Title: want to graduate in 3 years with a ba in data science and work in data science not swe( data analyst, data scientist, data engineer, product manager, etc.), what 8 upper divs should i take?\n",
      "Submission Title: Please recommend what class I should take to explore the following major/minors:\n",
      "Submission Title: Incoming transfer for l&s cs interested in summer classes\n",
      "Submission Title: Should I take physics 89w as a transfer student\n",
      "Submission Title: What’s a quality sushi place to take out of town guests for weekday lunch? Most things open after 5pm. Other lunch suggestions are welcome, I’m just tired of the standard stuff around campus (Gather, Jupiter, Mezzo).\n",
      "Submission Title: Should I Do Google Summer of Code (GSoC) instead of an internship the summer after freshman year?\n",
      "Submission Title: i really hate and regret my major. should i take a leave of absence and go to community college and come back as a computer science or engineering major\n",
      "Submission Title: 61b + 70 combo\n",
      "Submission Title: Should I apply to SEED/do Summer Bridge for my last summer instead of taking a break?\n",
      "Submission Title: Sad CS kid\n",
      "Submission Title: the last six postcard requests for now, will take some more after finals! lmk if you think I should make a larger version/prints of any of these--the campanile ones were pretty fun to paint, and I could definitely do some with more detail and cleaner lines\n",
      "Submission Title: hows this schedule (freshman here), and should i take stat 20 now or over the summer?\n",
      "Submission Title: When should I know to P/NP a class instead of taking it as a letter grade?\n",
      "Submission Title: Rising Sophomore L&S CS+Econ Projected Schedule - Thoughts?\n",
      "Submission Title: Should I take a minor in Physcis or Econs for as an EECS major?\n",
      "Submission Title: I'm a CS reject enrolled in 0 units (waitlisted for 16) looking for some advice.\n",
      "Submission Title: CS186 + CS161 + Data100\n",
      "Submission Title: Would you recommend self-learning CS170 for leetcode?\n",
      "Submission Title: DS & Econ Schedule Advice, Please\n",
      "Submission Title: What is the difference between CS188 and CS189? Should I take both?\n",
      "Submission Title: What should I self-study over winter break if Data8 is my only coding experience and I plan to take CS61A in the Spring?\n",
      "Submission Title: CS classes that don't conceptually overlap with 61C?\n",
      "Submission Title: CS 186 or CS161 (or CS188)?\n",
      "Submission Title: how is this courseload for a sophomore in fall 2023\n",
      "Submission Title: Cs 70 over the summer ?\n",
      "Submission Title: cs61c + cs170 + ?\n",
      "Submission Title: incoming eecs & physics simultaneous degree schedule, thoughts?\n",
      "Submission Title: Which classes should I take if I’m interested in getting a CPA as a non business major?\n",
      "Submission Title: Are there any cool engineering decals? If so, which ones should I take?\n",
      "Submission Title: (Spring 2023) Taking CS 61A, CS 61B & Math 54 together?\n",
      "Submission Title: Some nightmare material for all of you horror freaks out there\n",
      "Submission Title: Is Data C100 necessary for Data C140, or can you take them at the same time?\n",
      "Submission Title: do the RA's actually search through your room during winter break? I have string lights that use a wall outlet, should I take them down?\n",
      "Submission Title: Fall Transfer into L&S CS from CC\n",
      "Submission Title: Advice: 61C w/o 61B?\n",
      "Submission Title: Advice for getting into Berkeley EECS graduate program\n",
      "Submission Title: Math 202B. Is it possible to self study 202A or should I just wait and take Math 105\n",
      "Submission Title: Should I take this incredible opportunity???\n",
      "Submission Title: Math 1B + CS 61B over the summer\n",
      "Submission Title: Should I take Stat 20 + Data C88C [OR] Data C8 + Data C88C?\n",
      "Submission Title: CS 61B and CS 47C\n",
      "Submission Title: Panicking about job prospects\n",
      "Submission Title: Tested positive for covid and will have to skip an in person final resulting in an incomplete for the course. I need the grade to take my classes for next semester...What should I do?\n",
      "Submission Title: 61B and 70 together\n",
      "Submission Title: As a freshmen with little coding experience should I take cs61a or cs10? Is cs61a really that difficult for someone with little coding experience?\n",
      "Submission Title: I’m tryna get cuffed to an EECS bro, what CS class should I take?\n",
      "Submission Title: What are the best AP classes I should take in high school that would look good for college? I’m not bad at math but it isn’t my thing.\n",
      "Submission Title: Help with Schedule (CS & Poli Sci)\n",
      "Submission Title: Which classes should I take\n",
      "Submission Title: I'm tryna get cuffed to an art chick, what art class should I take?\n",
      "Submission Title: What should I take first: CS 70 or Data 140\n",
      "Submission Title: CS 70 rant 2.0\n",
      "Submission Title: Should I extend my grad date by a year to double major in CS or just graduate as a DS major this Fall?\n",
      "Submission Title: Should I take Math 1B or take an equivalent at a CC?\n",
      "Submission Title: CS186 + CS61C?\n",
      "Submission Title: Should I take the WDB full stack decal?\n",
      "Submission Title: TAs' Harshness at Berkeley\n",
      "Submission Title: cs61b\n",
      "Submission Title: course schedule\n",
      "Submission Title: Fall 23 Schedule\n",
      "Submission Title: which class should I take for first half r&c???\n",
      "Submission Title: take cs61b at cc in the summer?\n",
      "Submission Title: Help with trying to declare CS at UC Berkeley at L&S\n",
      "Submission Title: Taking CS188, CS170, and CS61C during Fall 2021. Doable or Death?\n",
      "Submission Title: completely lost and rethinking everything: CS+DS or CS+Econ?\n",
      "Submission Title: CS Upperdiv Course Selection Tips\n",
      "Submission Title: Class recommendations! (182/184 enrollment)\n",
      "Submission Title: Should I take chem 3B next semester?\n",
      "Submission Title: CS & DS Sophomore Fall Schedule\n",
      "Submission Title: should i take Data c100\n",
      "Submission Title: how to review data structures ?\n",
      "Submission Title: Need Some Hopium\n",
      "Submission Title: anything I should take note of when coming to UC Berkeley?\n",
      "Submission Title: Should I take my AP exams?\n"
     ]
    }
   ],
   "source": [
    "list = []\n",
    "for submission in subreddit.search(\"should i take cs170 after 61b\"):\n",
    "    print(\"Submission Title: {}\".format(submission.title))\n",
    "    list.append(submission.title)"
   ]
  },
  {
   "cell_type": "code",
   "execution_count": 62,
   "id": "9c8711e1",
   "metadata": {},
   "outputs": [
    {
     "name": "stderr",
     "output_type": "stream",
     "text": [
      "[nltk_data] Downloading package vader_lexicon to\n",
      "[nltk_data]     /Users/yashjain/nltk_data...\n",
      "[nltk_data]   Package vader_lexicon is already up-to-date!\n"
     ]
    },
    {
     "data": {
      "text/plain": [
       "True"
      ]
     },
     "execution_count": 62,
     "metadata": {},
     "output_type": "execute_result"
    }
   ],
   "source": [
    "import nltk\n",
    "from nltk.sentiment.vader import SentimentIntensityAnalyzer\n",
    "nltk.download('vader_lexicon')"
   ]
  },
  {
   "cell_type": "code",
   "execution_count": 63,
   "id": "01719198",
   "metadata": {},
   "outputs": [],
   "source": [
    "sia = SentimentIntensityAnalyzer()"
   ]
  },
  {
   "cell_type": "code",
   "execution_count": 65,
   "id": "6ade7b18",
   "metadata": {},
   "outputs": [
    {
     "name": "stdout",
     "output_type": "stream",
     "text": [
      "As a DS major is taking cs70 before cs170 critical or can I manage with the data c140 requirement?\n",
      "{'neg': 0.126, 'neu': 0.874, 'pos': 0.0, 'compound': -0.3182}\n",
      "{'neg': 0.126, 'neu': 0.874, 'pos': 0.0, 'compound': -0.3182}\n"
     ]
    },
    {
     "ename": "TypeError",
     "evalue": "'NoneType' object is not subscriptable",
     "output_type": "error",
     "traceback": [
      "\u001b[0;31m---------------------------------------------------------------------------\u001b[0m",
      "\u001b[0;31mTypeError\u001b[0m                                 Traceback (most recent call last)",
      "Cell \u001b[0;32mIn[65], line 5\u001b[0m\n\u001b[1;32m      3\u001b[0m \u001b[38;5;28mprint\u001b[39m(\u001b[38;5;28mlist\u001b[39m[i])\n\u001b[1;32m      4\u001b[0m \u001b[38;5;28mprint\u001b[39m(sia\u001b[38;5;241m.\u001b[39mpolarity_scores(\u001b[38;5;28mlist\u001b[39m[i]))\n\u001b[0;32m----> 5\u001b[0m \u001b[38;5;28;43mprint\u001b[39;49m\u001b[43m(\u001b[49m\u001b[43msia\u001b[49m\u001b[38;5;241;43m.\u001b[39;49m\u001b[43mpolarity_scores\u001b[49m\u001b[43m(\u001b[49m\u001b[38;5;28;43mlist\u001b[39;49m\u001b[43m[\u001b[49m\u001b[43mi\u001b[49m\u001b[43m]\u001b[49m\u001b[43m)\u001b[49m\u001b[43m)\u001b[49m\u001b[43m[\u001b[49m\u001b[38;5;124;43m'\u001b[39;49m\u001b[38;5;124;43mcompuound\u001b[39;49m\u001b[38;5;124;43m'\u001b[39;49m\u001b[43m]\u001b[49m\n",
      "\u001b[0;31mTypeError\u001b[0m: 'NoneType' object is not subscriptable"
     ]
    }
   ],
   "source": [
    "average_polarity = 0\n",
    "for i in range(len(list)):\n",
    "    print(list[i])\n",
    "    print(sia.polarity_scores(list[i]))\n",
    "    print(sia.polarity_scores(list[i]))"
   ]
  },
  {
   "cell_type": "code",
   "execution_count": 97,
   "id": "d7d1e98e",
   "metadata": {},
   "outputs": [
    {
     "name": "stdout",
     "output_type": "stream",
     "text": [
      "2200 Block of Bancroft Way.\n",
      "2400 block of College Ave\n",
      "Cesar Chavez.\n",
      "Foothill Complex.\n",
      "2200 block of Hearst Ave\n",
      "2900 block of Derby St.\n",
      "University Village Albany\n",
      "University Village, Albany\n",
      "College Ave and Dwight Way,  Upper Hearst Parking Structure, Virginia St and Scenic Ave\n",
      "2600 Block of Durant Ave, Berkeley\n",
      "Unit 2, 2650 Haste St.\n",
      "People's Park Housing Construction Site\n",
      "Wheeler Hall.\n",
      "2650 Haste St.\n",
      "2520 Channing Way, Max Martinez Commons.\n",
      "The Golden Bear Cafe\n",
      "The Golden Bear Café. An unknown  https://t.co/yh4425N9d\n",
      "Unit 1 Loading dock\n",
      "Unit 2 - Central building offices\n",
      "Hearst Gym\n",
      "Hearst Gym at approximately 0300 hrs. The suspect smashed a west 2nd floor double door window https://t.co/Xk7NgXo7E\n",
      "College Ave at Haste St\n",
      "Shattuck Ave and Delaware St\n",
      "2347 Telegraph Ave.\n",
      "2347 Telegraph Ave. The sus https://t.co/WxbdTNvuI\n",
      "Pedestrian Bridge near the East side of Stephen's Hall.\n",
      "Bowditch St at Bancroft Way.\n",
      "Plum Center\n",
      "2521 Channing Way, Berkeley\n",
      "2521 C https://t.co/oRlzY8UxK\n",
      "Foothill Building 2\n",
      "the Foothill Bldg 2 complex. T https://t.co/yOpcBEmHz\n",
      "2528 Durant Ave\n",
      "2528 Durant Ave (Taco Bell Cantina). The suspect is described as a m https://t.co/sEoTIJX5c\n",
      "People's Park Housing Construction Site.\n",
      "Gayley Rd and Hearst Ave.\n",
      "Etcheverry Hall/Soda Hall breezeway\n",
      "UVA Grounds Shop, 298 Ohlone Ave, Albany\n",
      "the University Villag https://t.co/gyDlUQSWw\n",
      "UVA Grounds Shop, 298 Ohlone Ave, Albany\n",
      "the University Villag https://t.co/u4Kww3frR\n",
      "Etcheverry Hall/Soda Hall breezeway\n",
      "Channing-Bowditch Apartments, 2535 Channing Way, Berkeley\n",
      "Li Ka Shing Center.\n",
      "the Li Ka Shing Center. Vict https://t.co/joQz4hRJg\n",
      "College Ave at Derby St\n",
      "Strawberry Canyon Pool Parking Lot\n",
      "Strawberry Canyon parking lot.  Two suspect fled in a newer light Nissa https://t.co/i3Cy57u8O\n",
      "Haste St and Bowditch St (Near People's Park).\n",
      "People's Park\n",
      "Bancroft Way and Telegraph Avenue\n",
      "Bancroft Way and Telegraph Avenue. https://t.co/4zXQgHqlK\n",
      "2400 block of Durant Ave in front of Blackwell Hall\n",
      "Bancroft Way at Ellsworth St.\n",
      "Lower Sproul Plaza.\n",
      "People's Park Housing Construction Site\n",
      "Richmond Field Station (RFS)\n",
      "the Richmond Field Station (RFS) building 178. Time of occurrence 09/18/2022  https://t.co/qwck4u76r\n",
      "Intersection of Durant Ave and Ellsworth St, Berkeley.\n",
      "Benvenue Ave at Dight Way\n",
      "2300 Block Durant Ave\n",
      "People's Park Housing Construction Site.\n",
      "the construction site on the 2500 block of Haste Street\n",
      "the UC Berkeley construction si https://t.co/XIU4vavl8\n",
      "the construction Site on 2500 Block Haste Street.\n",
      "the UC Berkeley constructi https://t.co/qQAW9A8j3\n",
      "People's Park.\n",
      "University Village of Albany - 1040 Jackson St.\n",
      "Berkeley Law Parking Lot.\n",
      "People's Park.\n",
      "The old Tolman Hall area\n",
      "Hildebrand Hall\n",
      "UC Berkeley Golden Bear Cafe.  The suspect fled the scene and is described as an African-Amer https://t.co/4jWSdw1Cy\n",
      "People's Park.\n",
      "Little League Baseball Fields, University Village, Albany (UVA)\n",
      "César Chavez student center bicycle shop UC Berkeley campus\n",
      "the César Chavez student center bicycle shop https://t.co/Jzs0rK7wa\n",
      "Spieker Plaza\n",
      "Weill Hall\n",
      "Strawberry Canyon Recreation\n",
      "Strawberry Canyon Recreation. Two unknown https://t.co/kBEUfe8xn\n",
      "2536 Channing Way\n",
      "2536 Channing Way (Counseling and Psychological Serv https://t.co/Lp164EfJE\n",
      "People's Park.\n",
      "People's Park.\n",
      "People's Park.\n",
      "People's Park.\n",
      "People's Park.\n",
      "2499 Piedmont Ave\n",
      "Peoples Park.\n",
      "2347 Telegraph Ave\n",
      "2811 Channing Way\n",
      "People's Park.\n",
      "Frank Shlesinger Way near the steam plant.\n",
      "12:10 am, near Ridge Road and Le Roy Avenue, i https://t.co/IghlxGCXZ\n",
      "2600 block of Warring Street, Berkeley\n",
      "In the area of 2300 block of Ridge Road near Soda Hall\n",
      "2500 Block Channing Way.\n",
      "People's Park\n",
      "Gill Tract, University Village Albany\n",
      "Ocean view Elementary School 1000 Jackson Street Albany Ca 94706\n",
      "the elementary school (Ocean view https://t.co/kFAPlrMzD\n",
      "Enclave Apartments\n",
      "Clark Kerr Campus (CKC)\n",
      "2434 Haste St and Haste/Ellsworth St\n",
      "Octagon (bridge over strawberry creek)\n",
      "University Village Albany, Little league Baseball fields\n",
      "2439 Durant Ave, Berkeley.\n",
      "Haas School of Business.\n",
      "Haas School of Business.\n"
     ]
    }
   ],
   "source": [
    "import tweepy\n",
    "import re\n",
    "\n",
    "# Twitter API credentials\n",
    "consumer_key = \"87MyySZYADELmZRIBZaLLSg1I\"\n",
    "consumer_secret = \"s0Ea9q1jYakYHkJ9sDI4die5d1ayaALozmoiin1ooybVnO3ODk\"\n",
    "access_token = \"961455038248841216-hV4bgB2BVF6AgvamoqLy1FkMqdbOUIH\"\n",
    "access_token_secret = \"Gtr1pwkX6qm8ABJpQ1a9B7cPAFtqzRbGa4U8EbWa9TUUm\"\n",
    "\n",
    "# Authenticate with Twitter\n",
    "auth = tweepy.OAuthHandler(consumer_key, consumer_secret)\n",
    "auth.set_access_token(access_token, access_token_secret)\n",
    "api = tweepy.API(auth)\n",
    "\n",
    "# Username of the account to parse\n",
    "username = \"UCPD_Cal\"\n",
    "\n",
    "# Regex pattern to match addresses\n",
    "new_pattern = r'occurred at (.+).'\n",
    "\n",
    "# Function to extract addresses from tweets\n",
    "def extract_addresses(tweet):\n",
    "    matches = re.findall(new_pattern, tweet.full_text)\n",
    "    return matches\n",
    "\n",
    "# Get account's tweets\n",
    "tweets = api.user_timeline(screen_name=username, count=1000, tweet_mode=\"extended\")\n",
    "\n",
    "# Extract addresses from each tweet\n",
    "addresses = []\n",
    "for tweet in tweets:\n",
    "    addresses.extend(extract_addresses(tweet))\n",
    "\n",
    "# Print the extracted addresses\n",
    "for address in addresses:\n",
    "    print(address)\n",
    "    "
   ]
  },
  {
   "cell_type": "code",
   "execution_count": null,
   "id": "4a146a33",
   "metadata": {},
   "outputs": [],
   "source": []
  }
 ],
 "metadata": {
  "kernelspec": {
   "display_name": "Python 3 (ipykernel)",
   "language": "python",
   "name": "python3"
  },
  "language_info": {
   "codemirror_mode": {
    "name": "ipython",
    "version": 3
   },
   "file_extension": ".py",
   "mimetype": "text/x-python",
   "name": "python",
   "nbconvert_exporter": "python",
   "pygments_lexer": "ipython3",
   "version": "3.10.9"
  }
 },
 "nbformat": 4,
 "nbformat_minor": 5
}
